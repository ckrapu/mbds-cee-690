{
 "cells": [
  {
   "cell_type": "markdown",
   "metadata": {},
   "source": [
    "# Introduction"
   ]
  },
  {
   "cell_type": "markdown",
   "metadata": {},
   "source": [
    "## Jupyter notebooks"
   ]
  },
  {
   "cell_type": "markdown",
   "metadata": {},
   "source": [
    "This class is focused on data analysis so we'll restrict ourselves to the parts of Python that we need to get the job done. This means we won't be using much object oriented programming or any complicated software engineering tools. For the most part, we'll be running code cell-by-cell and presenting our results in Jupyter notebooks, just like the one you are reading right now.\n",
    "\n",
    "The Jupyter server is a program hosting notebook documents by running on your computer or a remote server and it lets you run code and take notes directly through a web browser. This makes it much easier to integrate pictures, text and even equations in the same space as your code. However, if you need to write a program that will continuously generate predictions every day, repeatedly apply some functions to some streaming data or another recurrent task, these notebooks are not the best choice and you would be better off developing standalone Python scripts that can be run from the command line.\n",
    "\n",
    "The Jupyter notebook has a tour of the user interface built in. If you are new to using Jupyter, I recommend you select \"User Interface Tour\" that from the \"Help\" button on the toolbar and see the different features it has. Similarly, take a look at the keyboard shortcuts display."
   ]
  },
  {
   "cell_type": "markdown",
   "metadata": {},
   "source": [
    "## Cells"
   ]
  },
  {
   "cell_type": "markdown",
   "metadata": {},
   "source": [
    "The basic unit of structure in the notebook is a **cell**. These can be either code cells, markdown-formatted cells, or raw text cells. Markdown is a formatting language that lets you add effects to text like *italics*, **bolding** or bulleted lists. You can see how to use all the different formatting options markdown allows at https://www.markdownguide.org/basic-syntax/. Making section headers with large and bold text is done by prefixing your text with up to 4 # symbols."
   ]
  },
  {
   "cell_type": "markdown",
   "metadata": {},
   "source": [
    "To run a cell, press shift-enter. This will either render a markdown cell or tell a code cell to start computation. To edit a formatted markdown cell, just double click it. Once the computation has started, a little asterisk will be shown to the left of the cell. In the cell below, we'll import the standard library `time` which comes packaged with Python and tell the computer to wait for seven seconds."
   ]
  },
  {
   "cell_type": "code",
   "execution_count": 1,
   "metadata": {
    "collapsed": true
   },
   "outputs": [],
   "source": [
    "import time\n",
    "time.sleep(7)"
   ]
  },
  {
   "cell_type": "markdown",
   "metadata": {},
   "source": [
    "Once the cell is done running, you can see a number appear where the asterisk used to be. This indicates the order of execution of all cells and can be useful for identifying in what order your code was run. In general, it's best to try to keep from running code cells out of order if possible. To run the entire notebook at once, you can select \"Run All\" from the Cell toolbar button."
   ]
  },
  {
   "cell_type": "markdown",
   "metadata": {},
   "source": [
    "Sometimes your code can hang for a long time with out completing. If you're running remotely, this could be due to a hiccup in the communication between the server and your computer. Either way, you can restart the underlying Python instance called the *kernel* from the toolbar. Restarting the kernel wipes all variables stored in memory but does not delete any code or text."
   ]
  },
  {
   "cell_type": "markdown",
   "metadata": {},
   "source": [
    "## Directives / magic commands"
   ]
  },
  {
   "cell_type": "markdown",
   "metadata": {},
   "source": [
    "You can also pass certain commands directly to the Jupyter server and bypass the Python interpreter by using the `%` symbol in front of your commands. For example, you will want to tell the Python plotting library, `matplotlib`, to display its plots in the Jupyter notebook using the magic command `%matplotlib inline`.\n",
    "\n"
   ]
  },
  {
   "cell_type": "code",
   "execution_count": 2,
   "metadata": {
    "collapsed": true
   },
   "outputs": [],
   "source": [
    "%matplotlib inline"
   ]
  },
  {
   "cell_type": "markdown",
   "metadata": {},
   "source": [
    "You can also run Linux commands by prepending `!` to your command. To identify the current directory that the notebook is being run out of, you can use `!pwd!`."
   ]
  },
  {
   "cell_type": "code",
   "execution_count": 3,
   "metadata": {},
   "outputs": [
    {
     "name": "stdout",
     "output_type": "stream",
     "text": [
      "/home/ckrapu/Dropbox/teaching/engineering-data-science/notebooks\r\n"
     ]
    }
   ],
   "source": [
    "!pwd"
   ]
  },
  {
   "cell_type": "markdown",
   "metadata": {},
   "source": [
    "Here, we can see the full path of the directory that this notebook is in. This can be really handy to figure out whether or not your data is in the right directory. I'll check to see if our data file `hearts.csv` is in the right place."
   ]
  },
  {
   "cell_type": "code",
   "execution_count": 4,
   "metadata": {},
   "outputs": [
    {
     "name": "stdout",
     "output_type": "stream",
     "text": [
      "heart.csv\r\n"
     ]
    }
   ],
   "source": [
    "! ls ../datasets"
   ]
  },
  {
   "cell_type": "markdown",
   "metadata": {},
   "source": [
    "# Functions"
   ]
  },
  {
   "cell_type": "markdown",
   "metadata": {},
   "source": [
    "Python functions are declared with a simple syntax:"
   ]
  },
  {
   "cell_type": "code",
   "execution_count": 5,
   "metadata": {
    "collapsed": true
   },
   "outputs": [],
   "source": [
    "def some_function(argument1,argument2, optional_argument=0):\n",
    "    sum_value = argument1 + argument2 + optional_argument\n",
    "    return sum_value"
   ]
  },
  {
   "cell_type": "markdown",
   "metadata": {},
   "source": [
    "Note that Python is a dynamically typed language - the type of a input variable is not checked when a function runs. A function can take two types of arguments, positional (required) and keyword (optional) arguments. Optional arguments must have a default value to be set when the function is declard.\n",
    "\n",
    "Both types of arguments are used in the example above. Also, Python indicates nesting without brackets like C. Instead, it uses indentation. You can either use tabs or four spaces sequentially to create an indent. If you are writing code in a `.py` script, make sure you do not mix the two styles or else you will get errors."
   ]
  },
  {
   "cell_type": "markdown",
   "metadata": {},
   "source": [
    "Python allows for higher-level functions; functions can also be used as arguments to other functions as well."
   ]
  },
  {
   "cell_type": "code",
   "execution_count": 6,
   "metadata": {},
   "outputs": [
    {
     "name": "stdout",
     "output_type": "stream",
     "text": [
      "12\n"
     ]
    }
   ],
   "source": [
    "def cube(x):\n",
    "    return x*x*x\n",
    "\n",
    "def square(x):\n",
    "    return x*x\n",
    "\n",
    "def polynomial(x,function1, function2,a=1,b=1):\n",
    "    return a*function1(x) + b*function2(x)\n",
    "\n",
    "print(polynomial(2,cube,square))"
   ]
  },
  {
   "cell_type": "markdown",
   "metadata": {},
   "source": [
    "While the `print` function works fine, we can also display the return value of a statement without using print. The output from the return value depends on what the variable's method for displaying itself is."
   ]
  },
  {
   "cell_type": "code",
   "execution_count": 7,
   "metadata": {},
   "outputs": [
    {
     "data": {
      "text/plain": [
       "8"
      ]
     },
     "execution_count": 7,
     "metadata": {},
     "output_type": "execute_result"
    }
   ],
   "source": [
    "x = 3+5\n",
    "x"
   ]
  },
  {
   "cell_type": "markdown",
   "metadata": {},
   "source": [
    "## Exercise\n",
    "* Write a function `radius_to_area` that converts the radius of a circle into its area.\n",
    "* Write a function `apply_and_double` which takes in a number as well as a function as an argument such that argument function is applied to the number and then doubled."
   ]
  },
  {
   "cell_type": "markdown",
   "metadata": {},
   "source": [
    "If you want to see all the methods and attributes that belong to a Python object, you can use the `dir` function to do so. Everything in Python is an object. Methods which have double underscores before and after their name are typically intended for internal use by the developers and aren't recommended to be accessed by end users."
   ]
  },
  {
   "cell_type": "code",
   "execution_count": 8,
   "metadata": {
    "scrolled": true
   },
   "outputs": [
    {
     "data": {
      "text/plain": [
       "['__abs__',\n",
       " '__add__',\n",
       " '__and__',\n",
       " '__bool__',\n",
       " '__ceil__',\n",
       " '__class__',\n",
       " '__delattr__',\n",
       " '__dir__',\n",
       " '__divmod__',\n",
       " '__doc__',\n",
       " '__eq__',\n",
       " '__float__',\n",
       " '__floor__',\n",
       " '__floordiv__',\n",
       " '__format__',\n",
       " '__ge__',\n",
       " '__getattribute__',\n",
       " '__getnewargs__',\n",
       " '__gt__',\n",
       " '__hash__',\n",
       " '__index__',\n",
       " '__init__',\n",
       " '__init_subclass__',\n",
       " '__int__',\n",
       " '__invert__',\n",
       " '__le__',\n",
       " '__lshift__',\n",
       " '__lt__',\n",
       " '__mod__',\n",
       " '__mul__',\n",
       " '__ne__',\n",
       " '__neg__',\n",
       " '__new__',\n",
       " '__or__',\n",
       " '__pos__',\n",
       " '__pow__',\n",
       " '__radd__',\n",
       " '__rand__',\n",
       " '__rdivmod__',\n",
       " '__reduce__',\n",
       " '__reduce_ex__',\n",
       " '__repr__',\n",
       " '__rfloordiv__',\n",
       " '__rlshift__',\n",
       " '__rmod__',\n",
       " '__rmul__',\n",
       " '__ror__',\n",
       " '__round__',\n",
       " '__rpow__',\n",
       " '__rrshift__',\n",
       " '__rshift__',\n",
       " '__rsub__',\n",
       " '__rtruediv__',\n",
       " '__rxor__',\n",
       " '__setattr__',\n",
       " '__sizeof__',\n",
       " '__str__',\n",
       " '__sub__',\n",
       " '__subclasshook__',\n",
       " '__truediv__',\n",
       " '__trunc__',\n",
       " '__xor__',\n",
       " 'bit_length',\n",
       " 'conjugate',\n",
       " 'denominator',\n",
       " 'from_bytes',\n",
       " 'imag',\n",
       " 'numerator',\n",
       " 'real',\n",
       " 'to_bytes']"
      ]
     },
     "execution_count": 8,
     "metadata": {},
     "output_type": "execute_result"
    }
   ],
   "source": [
    "dir(x)"
   ]
  },
  {
   "cell_type": "markdown",
   "metadata": {},
   "source": [
    "# Sequences"
   ]
  },
  {
   "cell_type": "markdown",
   "metadata": {},
   "source": [
    "Python has a range of data structures that come preinstalled. `tuples` and `lists` are very commonly used. Both of these types of sequences respect the order of their elements. Other data structures like `set` and `dict` do not; once an object is added to them then the ordering of the data is lost. Tuples and lists behave very similarly."
   ]
  },
  {
   "cell_type": "code",
   "execution_count": 9,
   "metadata": {
    "collapsed": true
   },
   "outputs": [],
   "source": [
    "my_tuple = (0,1,2,3)\n",
    "my_list  = [4,5,6,7]\n"
   ]
  },
  {
   "cell_type": "markdown",
   "metadata": {},
   "source": [
    "Indexing one or several elements from the sequence is accomplished with square brackets. Note that Python's index starts at zero."
   ]
  },
  {
   "cell_type": "code",
   "execution_count": 10,
   "metadata": {},
   "outputs": [
    {
     "data": {
      "text/plain": [
       "4"
      ]
     },
     "execution_count": 10,
     "metadata": {},
     "output_type": "execute_result"
    }
   ],
   "source": [
    "my_list[0]"
   ]
  },
  {
   "cell_type": "code",
   "execution_count": 11,
   "metadata": {},
   "outputs": [
    {
     "data": {
      "text/plain": [
       "[4, 5, 6]"
      ]
     },
     "execution_count": 11,
     "metadata": {},
     "output_type": "execute_result"
    }
   ],
   "source": [
    "my_list[0:3]"
   ]
  },
  {
   "cell_type": "markdown",
   "metadata": {},
   "source": [
    "The colon also indicates that the indexing should run until the end."
   ]
  },
  {
   "cell_type": "code",
   "execution_count": 12,
   "metadata": {},
   "outputs": [
    {
     "data": {
      "text/plain": [
       "[5, 6, 7]"
      ]
     },
     "execution_count": 12,
     "metadata": {},
     "output_type": "execute_result"
    }
   ],
   "source": [
    "my_list[1::]"
   ]
  },
  {
   "cell_type": "markdown",
   "metadata": {},
   "source": [
    "You can also take every n-th element from the list using the square bracket notation with `start:stop:step`."
   ]
  },
  {
   "cell_type": "code",
   "execution_count": 13,
   "metadata": {},
   "outputs": [
    {
     "data": {
      "text/plain": [
       "[4, 6]"
      ]
     },
     "execution_count": 13,
     "metadata": {},
     "output_type": "execute_result"
    }
   ],
   "source": [
    "my_list[0:4:2]"
   ]
  },
  {
   "cell_type": "markdown",
   "metadata": {},
   "source": [
    "Indexing with negative numbers is also valid. This counts backwards from the end."
   ]
  },
  {
   "cell_type": "code",
   "execution_count": 14,
   "metadata": {},
   "outputs": [
    {
     "data": {
      "text/plain": [
       "3"
      ]
     },
     "execution_count": 14,
     "metadata": {},
     "output_type": "execute_result"
    }
   ],
   "source": [
    "my_tuple[-1]"
   ]
  },
  {
   "cell_type": "code",
   "execution_count": 15,
   "metadata": {},
   "outputs": [
    {
     "data": {
      "text/plain": [
       "1"
      ]
     },
     "execution_count": 15,
     "metadata": {},
     "output_type": "execute_result"
    }
   ],
   "source": [
    "my_tuple[-3]"
   ]
  },
  {
   "cell_type": "markdown",
   "metadata": {},
   "source": [
    "The append and insert operations are used to make a list longer. "
   ]
  },
  {
   "cell_type": "code",
   "execution_count": 16,
   "metadata": {},
   "outputs": [
    {
     "data": {
      "text/plain": [
       "[0, 4, 5, 6, 7, 4]"
      ]
     },
     "execution_count": 16,
     "metadata": {},
     "output_type": "execute_result"
    }
   ],
   "source": [
    "my_list.append(4)\n",
    "my_list.insert(0,0)\n",
    "my_list"
   ]
  },
  {
   "cell_type": "markdown",
   "metadata": {},
   "source": [
    "We can find the length of a sequence with the function `len`."
   ]
  },
  {
   "cell_type": "code",
   "execution_count": 17,
   "metadata": {},
   "outputs": [
    {
     "data": {
      "text/plain": [
       "6"
      ]
     },
     "execution_count": 17,
     "metadata": {},
     "output_type": "execute_result"
    }
   ],
   "source": [
    "len(my_list)"
   ]
  },
  {
   "cell_type": "markdown",
   "metadata": {},
   "source": [
    "Lists may also be nested!"
   ]
  },
  {
   "cell_type": "code",
   "execution_count": 18,
   "metadata": {},
   "outputs": [
    {
     "data": {
      "text/plain": [
       "[[0, 1], [2, 3, 4]]"
      ]
     },
     "execution_count": 18,
     "metadata": {},
     "output_type": "execute_result"
    }
   ],
   "source": [
    "nested = [[0,1],[2,3,4]]\n",
    "nested"
   ]
  },
  {
   "cell_type": "markdown",
   "metadata": {},
   "source": [
    "## Exercise\n",
    "* How do would you access every third element of a list `x` starting at the fifth element through the 13th?\n",
    "* What do you get from the expression `my_list[my_tuple]`. Can you explain what is going on here?"
   ]
  },
  {
   "cell_type": "markdown",
   "metadata": {},
   "source": [
    "# Sets"
   ]
  },
  {
   "cell_type": "markdown",
   "metadata": {},
   "source": [
    "Sets aren't used as frequently as some other Python data structures but they can be useful in certain situations. A set will only contain distinct, unique elements. Converting a list into a set is easy  - you just pass the list as an argument to `set` when it is first initialized. This gives a straightforward way to find all the unique values in a list."
   ]
  },
  {
   "cell_type": "code",
   "execution_count": 19,
   "metadata": {},
   "outputs": [
    {
     "data": {
      "text/plain": [
       "{1, 2, 3}"
      ]
     },
     "execution_count": 19,
     "metadata": {},
     "output_type": "execute_result"
    }
   ],
   "source": [
    "list_with_duplicates = [1,1,2,2,3,3,3]\n",
    "set(list_with_duplicates)"
   ]
  },
  {
   "cell_type": "markdown",
   "metadata": {},
   "source": [
    "# Dict"
   ]
  },
  {
   "cell_type": "markdown",
   "metadata": {},
   "source": [
    "A Python dict (short for dictionary) is an implementation of a hash table which provides very fast indexing and updating. Dicts map one value onto another with the requirement that the indexing variable must be immutable. This means that the variable must be fixed or constant. Examples of mutable datatypes include strings, integers and floating point numbers."
   ]
  },
  {
   "cell_type": "code",
   "execution_count": 20,
   "metadata": {},
   "outputs": [
    {
     "data": {
      "text/plain": [
       "'a'"
      ]
     },
     "execution_count": 20,
     "metadata": {},
     "output_type": "execute_result"
    }
   ],
   "source": [
    "mapping = {1:'a',2:'b',3:'c',0:'d'}\n",
    "mapping[1]\n"
   ]
  },
  {
   "cell_type": "code",
   "execution_count": 21,
   "metadata": {},
   "outputs": [
    {
     "data": {
      "text/plain": [
       "'d'"
      ]
     },
     "execution_count": 21,
     "metadata": {},
     "output_type": "execute_result"
    }
   ],
   "source": [
    "mapping[0]"
   ]
  },
  {
   "cell_type": "markdown",
   "metadata": {},
   "source": [
    "## Exercise"
   ]
  },
  {
   "cell_type": "markdown",
   "metadata": {},
   "source": [
    "* You can insert new values into the dict with the syntax `dictionary[index] = new_value`. Try this with `mapping`. What happens to the previously indexed value?\n",
    "* Suppose that you work at a restaurant want to keep a table of a collection of customers' names as indices and the name of their favorite dish as values. You also would like to keep track of which order the values were entered. Is the dict an appropriate data structure?\n",
    "* Review the [documentation](https://docs.python.org/2/library/collections.html) for the `collections` standard library and see if there is a more appropriate data structure for this purpose."
   ]
  },
  {
   "cell_type": "markdown",
   "metadata": {},
   "source": [
    "# Map function and iterators"
   ]
  },
  {
   "cell_type": "markdown",
   "metadata": {},
   "source": [
    "Dicts are really handy for applying a mapping to a sequence such as a list or tuple. Here, we'll see how to combine this with the `map` function and anonyomous or `lambda` functions."
   ]
  },
  {
   "cell_type": "markdown",
   "metadata": {},
   "source": [
    "The `map` function takes a function and a sequence and applies the function to each element of the sequence. It does not return a list or a tuple, however. Instead, it returns an `iterator` which provides new values one-at-a-time. This is especially useful when you have a very large input list and you do not want to compute them all at once, but rather only when you need them. The iterator tracks its internal state over time."
   ]
  },
  {
   "cell_type": "code",
   "execution_count": 22,
   "metadata": {
    "collapsed": true
   },
   "outputs": [],
   "source": [
    "iterator = map(square,my_list)\n"
   ]
  },
  {
   "cell_type": "code",
   "execution_count": 23,
   "metadata": {
    "scrolled": true
   },
   "outputs": [
    {
     "data": {
      "text/plain": [
       "0"
      ]
     },
     "execution_count": 23,
     "metadata": {},
     "output_type": "execute_result"
    }
   ],
   "source": [
    "iterator.__next__()"
   ]
  },
  {
   "cell_type": "markdown",
   "metadata": {},
   "source": [
    "If we just want all the values at once, we can turn it into a list too."
   ]
  },
  {
   "cell_type": "code",
   "execution_count": 24,
   "metadata": {},
   "outputs": [
    {
     "data": {
      "text/plain": [
       "[0, 16, 25, 36, 49, 16]"
      ]
     },
     "execution_count": 24,
     "metadata": {},
     "output_type": "execute_result"
    }
   ],
   "source": [
    "iterator = map(square,my_list)\n",
    "list(iterator)"
   ]
  },
  {
   "cell_type": "markdown",
   "metadata": {},
   "source": [
    "If we want to use our dict, we'll have to create a throwaway or anonymous lambda function to do so. The syntax for a lambda function is `lambda <input>: <output>`."
   ]
  },
  {
   "cell_type": "code",
   "execution_count": 25,
   "metadata": {},
   "outputs": [
    {
     "name": "stdout",
     "output_type": "stream",
     "text": [
      "Before mapping: (0, 1, 2, 3)\n",
      "After mapping: ['d', 'a', 'b', 'c']\n"
     ]
    }
   ],
   "source": [
    "letter_iterator = map(lambda x: mapping[x],my_tuple)\n",
    "print('Before mapping:',my_tuple)\n",
    "print('After mapping:',list(letter_iterator))"
   ]
  },
  {
   "cell_type": "markdown",
   "metadata": {},
   "source": [
    "One of the iterators you will see quite often is the `range` iterator. With its default argument, it starts at 0 and counts up to the required argument."
   ]
  },
  {
   "cell_type": "code",
   "execution_count": 26,
   "metadata": {},
   "outputs": [
    {
     "data": {
      "text/plain": [
       "[0, 1, 2, 3, 4]"
      ]
     },
     "execution_count": 26,
     "metadata": {},
     "output_type": "execute_result"
    }
   ],
   "source": [
    "list(range(5))"
   ]
  },
  {
   "cell_type": "code",
   "execution_count": 27,
   "metadata": {},
   "outputs": [
    {
     "data": {
      "text/plain": [
       "[2, 3]"
      ]
     },
     "execution_count": 27,
     "metadata": {},
     "output_type": "execute_result"
    }
   ],
   "source": [
    "list(range(2,4))"
   ]
  },
  {
   "cell_type": "code",
   "execution_count": 28,
   "metadata": {},
   "outputs": [
    {
     "data": {
      "text/plain": [
       "[5, 4, 3, 2]"
      ]
     },
     "execution_count": 28,
     "metadata": {},
     "output_type": "execute_result"
    }
   ],
   "source": [
    "list(range(5,1,-1))"
   ]
  },
  {
   "cell_type": "markdown",
   "metadata": {},
   "source": [
    "# Loops and conditionals"
   ]
  },
  {
   "cell_type": "markdown",
   "metadata": {},
   "source": [
    "`for` loops in python require a sequence or iterator to loop over and `while` loops continue until their termination condition is false."
   ]
  },
  {
   "cell_type": "code",
   "execution_count": 29,
   "metadata": {},
   "outputs": [
    {
     "name": "stdout",
     "output_type": "stream",
     "text": [
      "0 0\n",
      "1 1\n",
      "2 8\n",
      "3 27\n",
      "4 64\n"
     ]
    }
   ],
   "source": [
    "for x in range(5):\n",
    "    print(x,cube(x))"
   ]
  },
  {
   "cell_type": "code",
   "execution_count": 30,
   "metadata": {},
   "outputs": [
    {
     "name": "stdout",
     "output_type": "stream",
     "text": [
      "0 0\n",
      "1 1\n",
      "2 8\n",
      "3 27\n",
      "4 64\n"
     ]
    }
   ],
   "source": [
    "x = 0\n",
    "while x < 5:\n",
    "    print(x,cube(x))\n",
    "    x += 1"
   ]
  },
  {
   "cell_type": "markdown",
   "metadata": {},
   "source": [
    "Both types of loop also have an `else` clause that executes once the loop is finished."
   ]
  },
  {
   "cell_type": "code",
   "execution_count": 31,
   "metadata": {},
   "outputs": [
    {
     "name": "stdout",
     "output_type": "stream",
     "text": [
      "0 0\n",
      "1 1\n",
      "2 8\n",
      "3 27\n",
      "4 64\n",
      "The next number would have been 5\n"
     ]
    }
   ],
   "source": [
    "x = 0\n",
    "while x < 5:\n",
    "    print(x,cube(x))\n",
    "    x += 1\n",
    "else:\n",
    "    print('The next number would have been',x)"
   ]
  },
  {
   "cell_type": "markdown",
   "metadata": {},
   "source": [
    "Conditional statements are also straightforward. If you wish for nothing to be done, you can use the `pass` keyword."
   ]
  },
  {
   "cell_type": "code",
   "execution_count": 32,
   "metadata": {},
   "outputs": [
    {
     "name": "stdout",
     "output_type": "stream",
     "text": [
      "Something happened.\n"
     ]
    }
   ],
   "source": [
    "condition = True\n",
    "\n",
    "def do_something():\n",
    "    print('Something happened.')\n",
    "    \n",
    "def do_nothing():\n",
    "    pass\n",
    "\n",
    "if condition:\n",
    "    do_something()\n",
    "else:\n",
    "    do_nothing()"
   ]
  },
  {
   "cell_type": "markdown",
   "metadata": {},
   "source": [
    "If you want to iterate over both an integer index `i` and some `value` drawn from a sequence or iterator, you can do both at the same time with `enumerate`."
   ]
  },
  {
   "cell_type": "code",
   "execution_count": 50,
   "metadata": {},
   "outputs": [
    {
     "name": "stdout",
     "output_type": "stream",
     "text": [
      "0 a\n",
      "1 b\n",
      "2 c\n",
      "3 d\n"
     ]
    }
   ],
   "source": [
    "for i,value in enumerate(['a','b','c','d']):\n",
    "    print(i,value)"
   ]
  },
  {
   "cell_type": "markdown",
   "metadata": {},
   "source": [
    "## Exercise\n",
    "* Use a `for` loop and the `range` iterator to calculate the sum of all numbers between 11 and 39.\n",
    "* Use `map` and `range` to create a list populated with the cube of all numbers between 1 and 6."
   ]
  },
  {
   "cell_type": "markdown",
   "metadata": {},
   "source": [
    "# Strings"
   ]
  },
  {
   "cell_type": "markdown",
   "metadata": {},
   "source": [
    "Much like in the C programming language, a string is really an array of characters so you can index it just like a list or tuple."
   ]
  },
  {
   "cell_type": "code",
   "execution_count": 33,
   "metadata": {},
   "outputs": [
    {
     "data": {
      "text/plain": [
       "'topher'"
      ]
     },
     "execution_count": 33,
     "metadata": {},
     "output_type": "execute_result"
    }
   ],
   "source": [
    "my_name = 'Christopher'\n",
    "my_name[5::]"
   ]
  },
  {
   "cell_type": "code",
   "execution_count": 34,
   "metadata": {},
   "outputs": [
    {
     "data": {
      "text/plain": [
       "'christopher'"
      ]
     },
     "execution_count": 34,
     "metadata": {},
     "output_type": "execute_result"
    }
   ],
   "source": [
    "my_name.lower()"
   ]
  },
  {
   "cell_type": "code",
   "execution_count": 35,
   "metadata": {},
   "outputs": [
    {
     "data": {
      "text/plain": [
       "['Chris', 'opher']"
      ]
     },
     "execution_count": 35,
     "metadata": {},
     "output_type": "execute_result"
    }
   ],
   "source": [
    "my_name.split('t')"
   ]
  },
  {
   "cell_type": "markdown",
   "metadata": {},
   "source": [
    "Using the `in` keyword allows us to check whether a substring is part of a larger string. This operation can also be used to check in general if an element is part of a list"
   ]
  },
  {
   "cell_type": "code",
   "execution_count": 36,
   "metadata": {},
   "outputs": [
    {
     "data": {
      "text/plain": [
       "True"
      ]
     },
     "execution_count": 36,
     "metadata": {},
     "output_type": "execute_result"
    }
   ],
   "source": [
    "'Chris' in my_name"
   ]
  },
  {
   "cell_type": "code",
   "execution_count": 37,
   "metadata": {},
   "outputs": [
    {
     "data": {
      "text/plain": [
       "True"
      ]
     },
     "execution_count": 37,
     "metadata": {},
     "output_type": "execute_result"
    }
   ],
   "source": [
    "0 in [0,1,2,3]"
   ]
  },
  {
   "cell_type": "markdown",
   "metadata": {},
   "source": [
    "We can turn a longer string into a list of substrings by splitting it based on some punctuation."
   ]
  },
  {
   "cell_type": "code",
   "execution_count": 38,
   "metadata": {
    "collapsed": true
   },
   "outputs": [],
   "source": [
    "text = 'Four score and seven years ago our fathers brought forth on this continent, a new nation, conceived in Liberty...'"
   ]
  },
  {
   "cell_type": "code",
   "execution_count": 39,
   "metadata": {},
   "outputs": [
    {
     "data": {
      "text/plain": [
       "'Four score and seven years ago our fathers brought forth on this continent, a new nation, conceived in Liberty...'"
      ]
     },
     "execution_count": 39,
     "metadata": {},
     "output_type": "execute_result"
    }
   ],
   "source": [
    "text"
   ]
  },
  {
   "cell_type": "code",
   "execution_count": 51,
   "metadata": {},
   "outputs": [
    {
     "data": {
      "text/plain": [
       "['Four',\n",
       " 'score',\n",
       " 'and',\n",
       " 'seven',\n",
       " 'years',\n",
       " 'ago',\n",
       " 'our',\n",
       " 'fathers',\n",
       " 'brought',\n",
       " 'forth',\n",
       " 'on',\n",
       " 'this',\n",
       " 'continent,',\n",
       " 'a',\n",
       " 'new',\n",
       " 'nation,',\n",
       " 'conceived',\n",
       " 'in',\n",
       " 'Liberty...']"
      ]
     },
     "execution_count": 51,
     "metadata": {},
     "output_type": "execute_result"
    }
   ],
   "source": [
    "text.split(' ')"
   ]
  },
  {
   "cell_type": "markdown",
   "metadata": {},
   "source": [
    "Also, we can use the `replace` method to replace one string with another. `replace` is not an inplace operation!"
   ]
  },
  {
   "cell_type": "code",
   "execution_count": 41,
   "metadata": {},
   "outputs": [
    {
     "data": {
      "text/plain": [
       "'Twelve score and three years ago our fathers brought forth on this continent, a new nation, conceived in Liberty...'"
      ]
     },
     "execution_count": 41,
     "metadata": {},
     "output_type": "execute_result"
    }
   ],
   "source": [
    "text.replace('Four','Twelve').replace('seven','three')\n"
   ]
  },
  {
   "cell_type": "markdown",
   "metadata": {},
   "source": [
    "## Exercise\n",
    "* Calculate the average word length (in characters) of `text`."
   ]
  },
  {
   "cell_type": "markdown",
   "metadata": {},
   "source": [
    "# In-class project: loading data from text files"
   ]
  },
  {
   "cell_type": "markdown",
   "metadata": {},
   "source": [
    "In this section, we'll be using a dataset on heart disease from UCI which can be downloaded here: https://www.kaggle.com/ronitf/heart-disease-uci. Unzip the file and place it in the same directory that you are running the Jupyter notebook out of."
   ]
  },
  {
   "cell_type": "markdown",
   "metadata": {},
   "source": [
    "Python has functions for opening and reading files. The syntax looks like this:\n"
   ]
  },
  {
   "cell_type": "code",
   "execution_count": 42,
   "metadata": {
    "collapsed": true
   },
   "outputs": [],
   "source": [
    "filepath = '../datasets/heart.csv'\n",
    "with open(filepath,'r') as file:\n",
    "    data = file.read()"
   ]
  },
  {
   "cell_type": "markdown",
   "metadata": {},
   "source": [
    "The 'r' keyword to `open` indicates that the file should be prepared for reading rather than writing (`w`). This file is a comma separated value (CSV) file that contains numerous data values in a tabular format."
   ]
  },
  {
   "cell_type": "code",
   "execution_count": 43,
   "metadata": {},
   "outputs": [
    {
     "data": {
      "text/plain": [
       "'\\ufeffage,sex,cp,trestbps,chol,fbs,restecg,thalach,exang,oldpeak,slope,ca,thal,target\\n63,1,3,145,233,1,0,150,0,2.3,0,0,1,1\\n37,1,2,130,250,0,1,187,0,3.5,0,0,2,1\\n41,0,1,130,204,0,0,172,0,1.4,2,0,2,1\\n56,1,1,120,236,0,1,178,0,0.8,2,0,2,1\\n57,0,0,120,354,0,1,163,1,0.6,2,0,2,1\\n57,1,0,140,192,0,1,148,0,0.4,1,0,1,1\\n56,0,1,140,294,0,0,153,0,1.3,1,0,2,1\\n44,1,1,120,263,0,1,173,0,0,2,0,3,1\\n52,1,2,172,199,1,1,162,0,0.5,2,0,3,1\\n57,1,2,150,168,0,1,174,0,1.6,2,0,2,1\\n54,1,0,140,239,0,1,160,0,1.2,2,0,2,1\\n48,0,2,130,275,0,1,139,0,0.2,2,0,2,1\\n49,1,1,130,266,0,1,171,0,0.6,2,0,2,1\\n64,1,3,110,211,0,0,144,1,1.8,1,0,2,1\\n58,0,3,150,283,1,0,162,0,1,2,0,2,1\\n50,0,2,120,219,0,1,158,0,1.6,1,0,2,1\\n58,0,2,120,340,0,1,172,0,0,2,0,2,1\\n66,0,3,150,226,0,1,114,0,2.6,0,0,2,1\\n43,1,0,150,247,0,1,171,0,1.5,2,0,2,1\\n69,0,3,140,239,0,1,151,0,1.8,2,2,2,1\\n59,1,0,135,234,0,1,161,0,0.5,1,0,3,1\\n44,1,2,130,233,0,1,179,1,0.4,2,0,2,1\\n42,1,0,140,226,0,1,178,0,0,2,0,2,1\\n61,1,2,150,243,1,1,137,1,1,1,0,2,1\\n40,1,3,140,199,0,1,178,1,1.4,2,0,3,1\\n71,0'"
      ]
     },
     "execution_count": 43,
     "metadata": {},
     "output_type": "execute_result"
    }
   ],
   "source": [
    "data[0:1000]"
   ]
  },
  {
   "cell_type": "markdown",
   "metadata": {},
   "source": [
    "The rows are delimited by the newline operator `\\n` while the columns are separated by commas. All of the values in the first line correspond to column header names."
   ]
  },
  {
   "cell_type": "markdown",
   "metadata": {},
   "source": [
    "## Exercise"
   ]
  },
  {
   "cell_type": "markdown",
   "metadata": {},
   "source": [
    "In this exercise, we will load the data in the CSV file into a dict where each column name indexes a list of data values corresponding to that column. We also want the order of values across lists to be consistent with the order in the CSV file. To do this, complete the following steps.\n",
    "\n",
    "* First, split the large data string using the newline character to separate the file into distinct lines.\n",
    "* Split the first line into column names and keep track of how many columns there are.\n",
    "* For the rest of the file, iterate over each of the lines and add the data value to the appropriate dict's list. You can do this by splitting each line by commas and keeping track of the column index belonging to each column name. You can initialize an empty dict with `{}` and an empty list with `[]`. If possible, try to convert the string values into numerical values."
   ]
  },
  {
   "cell_type": "code",
   "execution_count": 47,
   "metadata": {
    "collapsed": true
   },
   "outputs": [],
   "source": [
    "lines = data.split('\\n')\n",
    "columns = lines[0].split(',')\n",
    "table = {}\n",
    "for name in columns:\n",
    "    table[name] = []\n",
    "    \n",
    "for line in lines[1::]:\n",
    "    values = line.split(',')\n",
    "    for i, value in enumerate(values):\n",
    "        table[columns[i]].append(value)"
   ]
  },
  {
   "cell_type": "markdown",
   "metadata": {},
   "source": [
    "# Challenge exercises"
   ]
  },
  {
   "cell_type": "markdown",
   "metadata": {},
   "source": [
    "If you found the previous problems to be too easy, here are a few extra exercises to encourage you to explore more of Python's functionality."
   ]
  },
  {
   "cell_type": "markdown",
   "metadata": {},
   "source": [
    "* Define a function that implements the matrix-vector product between a matrix $A$ and a vector $x$ $A$ should have dimensions $d\\times d$ and $x$ should be $d$ elements long. $A$ should be a nested list-of-lists and $x$ should be a list. \n",
    "* Define a function to generate a large sample matrix and large vector for testing purposes. The entries of the matrix and vector are irrelevant, but the dimension should be passed in as an argument.\n",
    "* Generate a list-of-lists and vectors for varying dimensions. Use the `time` library (documentation [here](https://docs.python.org/3/library/time.html) to calculate how much time is required to calculate the product for $d = 10$, $d = 100$ and $d = 1000$.\n",
    "* Install and use the Numba just-in-time compiler to speed up your code. A good tutorial for this can be found at https://numba.pydata.org/numba-doc/dev/user/5minguide.html.\n",
    "* Compare the run time for each case. Is Numba providing a performance boost?"
   ]
  },
  {
   "cell_type": "code",
   "execution_count": null,
   "metadata": {
    "collapsed": true
   },
   "outputs": [],
   "source": []
  }
 ],
 "metadata": {
  "kernelspec": {
   "display_name": "Python 3",
   "language": "python",
   "name": "python3"
  },
  "language_info": {
   "codemirror_mode": {
    "name": "ipython",
    "version": 3
   },
   "file_extension": ".py",
   "mimetype": "text/x-python",
   "name": "python",
   "nbconvert_exporter": "python",
   "pygments_lexer": "ipython3",
   "version": "3.6.7"
  }
 },
 "nbformat": 4,
 "nbformat_minor": 2
}
